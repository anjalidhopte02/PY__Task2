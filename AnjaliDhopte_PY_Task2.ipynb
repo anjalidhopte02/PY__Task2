{
 "cells": [
  {
   "cell_type": "markdown",
   "id": "e99e3866-a184-43ab-a085-b5022f578ae6",
   "metadata": {},
   "source": [
    "# Task2-PY-15 types of list, boolean, int,string, list,slice,index."
   ]
  },
  {
   "cell_type": "markdown",
   "id": "970a0efe-0307-43a9-b99b-63f0ba2fbf9c",
   "metadata": {},
   "source": [
    "## List"
   ]
  },
  {
   "cell_type": "code",
   "execution_count": 5,
   "id": "9e15a94b-cc7f-4326-b6f3-c5b78cf66c2d",
   "metadata": {},
   "outputs": [],
   "source": [
    "l1= []"
   ]
  },
  {
   "cell_type": "code",
   "execution_count": 7,
   "id": "db153f01-602b-47e8-a74d-230cf0b44efc",
   "metadata": {},
   "outputs": [
    {
     "data": {
      "text/plain": [
       "[]"
      ]
     },
     "execution_count": 7,
     "metadata": {},
     "output_type": "execute_result"
    }
   ],
   "source": [
    "l1"
   ]
  },
  {
   "cell_type": "code",
   "execution_count": 13,
   "id": "37829240-1daa-4b9c-b06d-074cb6bed8b2",
   "metadata": {},
   "outputs": [],
   "source": [
    "l2= [1,2,3,4,5,6,7]"
   ]
  },
  {
   "cell_type": "code",
   "execution_count": 15,
   "id": "e28661ce-359a-491d-867c-e0546ee0470a",
   "metadata": {},
   "outputs": [
    {
     "data": {
      "text/plain": [
       "[1, 2, 3, 4, 5, 6, 7]"
      ]
     },
     "execution_count": 15,
     "metadata": {},
     "output_type": "execute_result"
    }
   ],
   "source": [
    "l2"
   ]
  },
  {
   "cell_type": "code",
   "execution_count": 21,
   "id": "46aacafe-8b3b-4d76-9571-8d612bf0a963",
   "metadata": {},
   "outputs": [],
   "source": [
    "l3= ['apple','banana','mango','cherry']"
   ]
  },
  {
   "cell_type": "code",
   "execution_count": 23,
   "id": "0c094657-255c-4e19-8688-95f8348d85ef",
   "metadata": {},
   "outputs": [
    {
     "data": {
      "text/plain": [
       "['apple', 'banana', 'mango', 'cherry']"
      ]
     },
     "execution_count": 23,
     "metadata": {},
     "output_type": "execute_result"
    }
   ],
   "source": [
    "l3"
   ]
  },
  {
   "cell_type": "code",
   "execution_count": 39,
   "id": "d26f13ed-dd28-4eb0-b65d-ef75a5d5db92",
   "metadata": {},
   "outputs": [],
   "source": [
    "l4= [True,False,True]"
   ]
  },
  {
   "cell_type": "code",
   "execution_count": 41,
   "id": "f83818d7-0cdb-4b29-aba8-251da9fd7d20",
   "metadata": {},
   "outputs": [
    {
     "data": {
      "text/plain": [
       "[True, False, True]"
      ]
     },
     "execution_count": 41,
     "metadata": {},
     "output_type": "execute_result"
    }
   ],
   "source": [
    "l4"
   ]
  },
  {
   "cell_type": "code",
   "execution_count": 43,
   "id": "eebffadf-b888-49f8-a3fe-da196d87b79e",
   "metadata": {},
   "outputs": [],
   "source": [
    "l5= [[123,234,345],'Mango',False,1,40]"
   ]
  },
  {
   "cell_type": "code",
   "execution_count": 45,
   "id": "6db30e8e-6c5d-489d-aa6b-ebde8d8fc99e",
   "metadata": {},
   "outputs": [
    {
     "data": {
      "text/plain": [
       "[[123, 234, 345], 'Mango', False, 1, 40]"
      ]
     },
     "execution_count": 45,
     "metadata": {},
     "output_type": "execute_result"
    }
   ],
   "source": [
    "l5"
   ]
  },
  {
   "cell_type": "code",
   "execution_count": 33,
   "id": "63a828d3-2f83-4f02-9703-ca22685835d5",
   "metadata": {},
   "outputs": [],
   "source": [
    "l6= [[1,5,8],[16,19]]"
   ]
  },
  {
   "cell_type": "code",
   "execution_count": 35,
   "id": "7521a9e2-0007-4c3c-8d14-01da56ed6426",
   "metadata": {},
   "outputs": [
    {
     "data": {
      "text/plain": [
       "[[1, 5, 8], [16, 19]]"
      ]
     },
     "execution_count": 35,
     "metadata": {},
     "output_type": "execute_result"
    }
   ],
   "source": [
    "l6"
   ]
  },
  {
   "cell_type": "code",
   "execution_count": 47,
   "id": "5b11e5ae-825d-455d-ba4e-1ac0b1bd0c28",
   "metadata": {},
   "outputs": [],
   "source": [
    "l7= ['xyz',43,False,70]"
   ]
  },
  {
   "cell_type": "code",
   "execution_count": 49,
   "id": "49b51d41-1997-4bdc-9215-9f3cc457acbf",
   "metadata": {},
   "outputs": [
    {
     "data": {
      "text/plain": [
       "['xyz', 43, False, 70]"
      ]
     },
     "execution_count": 49,
     "metadata": {},
     "output_type": "execute_result"
    }
   ],
   "source": [
    "l7"
   ]
  },
  {
   "cell_type": "code",
   "execution_count": 51,
   "id": "8ccb990f-0b87-4fc4-85a8-bbe6c237cfc0",
   "metadata": {},
   "outputs": [],
   "source": [
    "l8= [121,122,123,124,125,126,127,128,129,130]"
   ]
  },
  {
   "cell_type": "code",
   "execution_count": 53,
   "id": "a26fa1ec-b34e-438e-8405-ed8031290477",
   "metadata": {},
   "outputs": [
    {
     "data": {
      "text/plain": [
       "[121, 122, 123, 124, 125, 126, 127, 128, 129, 130]"
      ]
     },
     "execution_count": 53,
     "metadata": {},
     "output_type": "execute_result"
    }
   ],
   "source": [
    "l8"
   ]
  },
  {
   "cell_type": "markdown",
   "id": "b89f511a-0525-487d-8a95-2b3be6c97a70",
   "metadata": {},
   "source": [
    "## Index"
   ]
  },
  {
   "cell_type": "code",
   "execution_count": 55,
   "id": "f4e93b2e-1d5e-477f-a96c-0e09a0f56022",
   "metadata": {},
   "outputs": [
    {
     "data": {
      "text/plain": [
       "['apple', 'banana', 'mango', 'cherry']"
      ]
     },
     "execution_count": 55,
     "metadata": {},
     "output_type": "execute_result"
    }
   ],
   "source": [
    "l3"
   ]
  },
  {
   "cell_type": "code",
   "execution_count": 66,
   "id": "f5a481bb-614a-40af-8a59-66342c5017d4",
   "metadata": {},
   "outputs": [
    {
     "data": {
      "text/plain": [
       "'mango'"
      ]
     },
     "execution_count": 66,
     "metadata": {},
     "output_type": "execute_result"
    }
   ],
   "source": [
    "l3[2]"
   ]
  },
  {
   "cell_type": "code",
   "execution_count": 68,
   "id": "6f59e1cb-84d6-4c76-90bf-be3c43cd33b2",
   "metadata": {},
   "outputs": [
    {
     "data": {
      "text/plain": [
       "[121, 122, 123, 124, 125, 126, 127, 128, 129, 130]"
      ]
     },
     "execution_count": 68,
     "metadata": {},
     "output_type": "execute_result"
    }
   ],
   "source": [
    "l8"
   ]
  },
  {
   "cell_type": "code",
   "execution_count": 70,
   "id": "41964895-45c1-46ef-8e06-cd9fd0f5b790",
   "metadata": {},
   "outputs": [
    {
     "data": {
      "text/plain": [
       "130"
      ]
     },
     "execution_count": 70,
     "metadata": {},
     "output_type": "execute_result"
    }
   ],
   "source": [
    "l8[-1]"
   ]
  },
  {
   "cell_type": "code",
   "execution_count": 72,
   "id": "cd04bbc2-f3a2-440c-baed-6ed42afa55fb",
   "metadata": {},
   "outputs": [
    {
     "data": {
      "text/plain": [
       "[[123, 234, 345], 'Mango', False, 1, 40]"
      ]
     },
     "execution_count": 72,
     "metadata": {},
     "output_type": "execute_result"
    }
   ],
   "source": [
    "l5"
   ]
  },
  {
   "cell_type": "code",
   "execution_count": 74,
   "id": "8791f830-dc35-4871-827c-2f6ee10d43d5",
   "metadata": {},
   "outputs": [
    {
     "data": {
      "text/plain": [
       "[123, 234, 345]"
      ]
     },
     "execution_count": 74,
     "metadata": {},
     "output_type": "execute_result"
    }
   ],
   "source": [
    "l5[0]"
   ]
  },
  {
   "cell_type": "code",
   "execution_count": 76,
   "id": "8cd04bcc-b6ce-4b22-a797-a32d9abc6a1a",
   "metadata": {},
   "outputs": [
    {
     "data": {
      "text/plain": [
       "1"
      ]
     },
     "execution_count": 76,
     "metadata": {},
     "output_type": "execute_result"
    }
   ],
   "source": [
    "l5[3]"
   ]
  },
  {
   "cell_type": "code",
   "execution_count": 78,
   "id": "dd3ba8c4-7769-4aab-a828-73761b215f81",
   "metadata": {},
   "outputs": [
    {
     "data": {
      "text/plain": [
       "234"
      ]
     },
     "execution_count": 78,
     "metadata": {},
     "output_type": "execute_result"
    }
   ],
   "source": [
    "l5[0][1]"
   ]
  },
  {
   "cell_type": "code",
   "execution_count": 82,
   "id": "5a8742b3-e622-475d-95e2-c503be2b4ec1",
   "metadata": {},
   "outputs": [
    {
     "data": {
      "text/plain": [
       "123"
      ]
     },
     "execution_count": 82,
     "metadata": {},
     "output_type": "execute_result"
    }
   ],
   "source": [
    "l5[0][0]"
   ]
  },
  {
   "cell_type": "markdown",
   "id": "3372c7b9-dc5b-48f1-b876-1a184b66b94c",
   "metadata": {},
   "source": [
    "## Slice"
   ]
  },
  {
   "cell_type": "code",
   "execution_count": 84,
   "id": "01ae087f-17fb-4292-86f2-a22a0684e290",
   "metadata": {},
   "outputs": [
    {
     "data": {
      "text/plain": [
       "[121, 122, 123, 124, 125, 126, 127, 128, 129, 130]"
      ]
     },
     "execution_count": 84,
     "metadata": {},
     "output_type": "execute_result"
    }
   ],
   "source": [
    "l8"
   ]
  },
  {
   "cell_type": "code",
   "execution_count": 86,
   "id": "191a4322-aa31-4b58-8f41-ae320bbece64",
   "metadata": {},
   "outputs": [
    {
     "data": {
      "text/plain": [
       "[123, 124, 125, 126]"
      ]
     },
     "execution_count": 86,
     "metadata": {},
     "output_type": "execute_result"
    }
   ],
   "source": [
    "l8[2:6]"
   ]
  },
  {
   "cell_type": "code",
   "execution_count": 88,
   "id": "44524cea-3099-40bd-8f7f-5fbc452bc91e",
   "metadata": {},
   "outputs": [
    {
     "data": {
      "text/plain": [
       "[128, 129]"
      ]
     },
     "execution_count": 88,
     "metadata": {},
     "output_type": "execute_result"
    }
   ],
   "source": [
    "l8[7:9]"
   ]
  },
  {
   "cell_type": "code",
   "execution_count": 92,
   "id": "32ae39eb-b3ed-4ddb-b6c0-c70aca4a874f",
   "metadata": {},
   "outputs": [
    {
     "data": {
      "text/plain": [
       "[]"
      ]
     },
     "execution_count": 92,
     "metadata": {},
     "output_type": "execute_result"
    }
   ],
   "source": [
    "l8[-1:-2]"
   ]
  },
  {
   "cell_type": "code",
   "execution_count": 94,
   "id": "85cb3461-2b87-473f-abfe-3c2cbaca497d",
   "metadata": {},
   "outputs": [
    {
     "data": {
      "text/plain": [
       "[127, 128, 129]"
      ]
     },
     "execution_count": 94,
     "metadata": {},
     "output_type": "execute_result"
    }
   ],
   "source": [
    "l8[6:-1]"
   ]
  },
  {
   "cell_type": "code",
   "execution_count": 96,
   "id": "23c54e72-c507-47dd-a30e-a25b561de23d",
   "metadata": {},
   "outputs": [
    {
     "data": {
      "text/plain": [
       "[128, 129]"
      ]
     },
     "execution_count": 96,
     "metadata": {},
     "output_type": "execute_result"
    }
   ],
   "source": [
    "l8[-3:-1]"
   ]
  },
  {
   "cell_type": "code",
   "execution_count": 98,
   "id": "a34ca5a2-bfc0-473a-bcce-6db0aefb3752",
   "metadata": {},
   "outputs": [
    {
     "data": {
      "text/plain": [
       "[121, 122, 123, 124, 125, 126, 127, 128, 129, 130]"
      ]
     },
     "execution_count": 98,
     "metadata": {},
     "output_type": "execute_result"
    }
   ],
   "source": [
    "l8[::]"
   ]
  },
  {
   "cell_type": "code",
   "execution_count": 102,
   "id": "8220b967-0bc4-4619-bec2-a6379e9b5552",
   "metadata": {},
   "outputs": [
    {
     "data": {
      "text/plain": [
       "['apple', 'banana', 'mango', 'cherry']"
      ]
     },
     "execution_count": 102,
     "metadata": {},
     "output_type": "execute_result"
    }
   ],
   "source": [
    "l3"
   ]
  },
  {
   "cell_type": "code",
   "execution_count": 106,
   "id": "376707ce-d2b9-4cf5-acd8-0c20fabb62ea",
   "metadata": {},
   "outputs": [
    {
     "data": {
      "text/plain": [
       "['banana', 'mango']"
      ]
     },
     "execution_count": 106,
     "metadata": {},
     "output_type": "execute_result"
    }
   ],
   "source": [
    "l3[1:3]"
   ]
  },
  {
   "cell_type": "code",
   "execution_count": 108,
   "id": "cd08cdb5-18d3-4c92-bf06-0706d19e68f4",
   "metadata": {},
   "outputs": [
    {
     "data": {
      "text/plain": [
       "['apple', 'banana', 'mango', 'cherry']"
      ]
     },
     "execution_count": 108,
     "metadata": {},
     "output_type": "execute_result"
    }
   ],
   "source": [
    "l3[::]"
   ]
  },
  {
   "cell_type": "code",
   "execution_count": 110,
   "id": "bd26f83f-3209-4c7b-b877-ae1a46540455",
   "metadata": {},
   "outputs": [
    {
     "data": {
      "text/plain": [
       "['apple', 'cherry']"
      ]
     },
     "execution_count": 110,
     "metadata": {},
     "output_type": "execute_result"
    }
   ],
   "source": [
    "l3[::3]"
   ]
  },
  {
   "cell_type": "code",
   "execution_count": null,
   "id": "eb98dfde-9007-4d01-a037-534bf8d10194",
   "metadata": {},
   "outputs": [],
   "source": []
  }
 ],
 "metadata": {
  "kernelspec": {
   "display_name": "Python 3 (ipykernel)",
   "language": "python",
   "name": "python3"
  },
  "language_info": {
   "codemirror_mode": {
    "name": "ipython",
    "version": 3
   },
   "file_extension": ".py",
   "mimetype": "text/x-python",
   "name": "python",
   "nbconvert_exporter": "python",
   "pygments_lexer": "ipython3",
   "version": "3.12.4"
  }
 },
 "nbformat": 4,
 "nbformat_minor": 5
}
